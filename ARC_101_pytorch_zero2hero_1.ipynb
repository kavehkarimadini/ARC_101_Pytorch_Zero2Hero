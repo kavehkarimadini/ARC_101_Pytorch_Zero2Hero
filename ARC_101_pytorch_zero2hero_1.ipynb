{
 "cells": [
  {
   "cell_type": "code",
   "execution_count": 1,
   "id": "a0c31c13",
   "metadata": {
    "execution": {
     "iopub.execute_input": "2024-03-04T05:53:07.711037Z",
     "iopub.status.busy": "2024-03-04T05:53:07.710051Z",
     "iopub.status.idle": "2024-03-04T05:53:11.875963Z",
     "shell.execute_reply": "2024-03-04T05:53:11.874555Z"
    },
    "papermill": {
     "duration": 4.184762,
     "end_time": "2024-03-04T05:53:11.879228",
     "exception": false,
     "start_time": "2024-03-04T05:53:07.694466",
     "status": "completed"
    },
    "tags": []
   },
   "outputs": [
    {
     "data": {
      "text/plain": [
       "'2.1.2+cpu'"
      ]
     },
     "execution_count": 1,
     "metadata": {},
     "output_type": "execute_result"
    }
   ],
   "source": [
    "import torch\n",
    "torch.__version__"
   ]
  },
  {
   "cell_type": "code",
   "execution_count": 2,
   "id": "7a416842",
   "metadata": {
    "execution": {
     "iopub.execute_input": "2024-03-04T05:53:11.908271Z",
     "iopub.status.busy": "2024-03-04T05:53:11.907713Z",
     "iopub.status.idle": "2024-03-04T05:53:11.959527Z",
     "shell.execute_reply": "2024-03-04T05:53:11.958447Z"
    },
    "papermill": {
     "duration": 0.069574,
     "end_time": "2024-03-04T05:53:11.962059",
     "exception": false,
     "start_time": "2024-03-04T05:53:11.892485",
     "status": "completed"
    },
    "tags": []
   },
   "outputs": [
    {
     "data": {
      "text/plain": [
       "tensor(7)"
      ]
     },
     "execution_count": 2,
     "metadata": {},
     "output_type": "execute_result"
    }
   ],
   "source": [
    "# Scalar\n",
    "scalar = torch.tensor(7)\n",
    "scalar"
   ]
  },
  {
   "cell_type": "code",
   "execution_count": 3,
   "id": "41352ae4",
   "metadata": {
    "execution": {
     "iopub.execute_input": "2024-03-04T05:53:11.988973Z",
     "iopub.status.busy": "2024-03-04T05:53:11.988531Z",
     "iopub.status.idle": "2024-03-04T05:53:11.994803Z",
     "shell.execute_reply": "2024-03-04T05:53:11.993899Z"
    },
    "papermill": {
     "duration": 0.022333,
     "end_time": "2024-03-04T05:53:11.997282",
     "exception": false,
     "start_time": "2024-03-04T05:53:11.974949",
     "status": "completed"
    },
    "tags": []
   },
   "outputs": [
    {
     "data": {
      "text/plain": [
       "0"
      ]
     },
     "execution_count": 3,
     "metadata": {},
     "output_type": "execute_result"
    }
   ],
   "source": [
    "scalar.ndim"
   ]
  },
  {
   "cell_type": "code",
   "execution_count": 4,
   "id": "efe29490",
   "metadata": {
    "execution": {
     "iopub.execute_input": "2024-03-04T05:53:12.025842Z",
     "iopub.status.busy": "2024-03-04T05:53:12.024864Z",
     "iopub.status.idle": "2024-03-04T05:53:12.031534Z",
     "shell.execute_reply": "2024-03-04T05:53:12.030669Z"
    },
    "papermill": {
     "duration": 0.024006,
     "end_time": "2024-03-04T05:53:12.034182",
     "exception": false,
     "start_time": "2024-03-04T05:53:12.010176",
     "status": "completed"
    },
    "tags": []
   },
   "outputs": [
    {
     "data": {
      "text/plain": [
       "7"
      ]
     },
     "execution_count": 4,
     "metadata": {},
     "output_type": "execute_result"
    }
   ],
   "source": [
    "# Get the Python number within a tensor (only works with one-element tensors)\n",
    "scalar.item()"
   ]
  },
  {
   "cell_type": "code",
   "execution_count": 5,
   "id": "b50528c2",
   "metadata": {
    "execution": {
     "iopub.execute_input": "2024-03-04T05:53:12.061556Z",
     "iopub.status.busy": "2024-03-04T05:53:12.060825Z",
     "iopub.status.idle": "2024-03-04T05:53:12.069995Z",
     "shell.execute_reply": "2024-03-04T05:53:12.068872Z"
    },
    "papermill": {
     "duration": 0.026129,
     "end_time": "2024-03-04T05:53:12.072746",
     "exception": false,
     "start_time": "2024-03-04T05:53:12.046617",
     "status": "completed"
    },
    "tags": []
   },
   "outputs": [
    {
     "data": {
      "text/plain": [
       "tensor([7, 7])"
      ]
     },
     "execution_count": 5,
     "metadata": {},
     "output_type": "execute_result"
    }
   ],
   "source": [
    "# Vector\n",
    "vector = torch.tensor([7, 7])\n",
    "vector"
   ]
  },
  {
   "cell_type": "code",
   "execution_count": 6,
   "id": "8ba62761",
   "metadata": {
    "execution": {
     "iopub.execute_input": "2024-03-04T05:53:12.100367Z",
     "iopub.status.busy": "2024-03-04T05:53:12.099312Z",
     "iopub.status.idle": "2024-03-04T05:53:12.106517Z",
     "shell.execute_reply": "2024-03-04T05:53:12.105498Z"
    },
    "papermill": {
     "duration": 0.023595,
     "end_time": "2024-03-04T05:53:12.109006",
     "exception": false,
     "start_time": "2024-03-04T05:53:12.085411",
     "status": "completed"
    },
    "tags": []
   },
   "outputs": [
    {
     "data": {
      "text/plain": [
       "1"
      ]
     },
     "execution_count": 6,
     "metadata": {},
     "output_type": "execute_result"
    }
   ],
   "source": [
    "# Check the number of dimensions of vector\n",
    "vector.ndim"
   ]
  },
  {
   "cell_type": "code",
   "execution_count": 7,
   "id": "e75a79a0",
   "metadata": {
    "execution": {
     "iopub.execute_input": "2024-03-04T05:53:12.138178Z",
     "iopub.status.busy": "2024-03-04T05:53:12.137060Z",
     "iopub.status.idle": "2024-03-04T05:53:12.145584Z",
     "shell.execute_reply": "2024-03-04T05:53:12.144101Z"
    },
    "papermill": {
     "duration": 0.025947,
     "end_time": "2024-03-04T05:53:12.148200",
     "exception": false,
     "start_time": "2024-03-04T05:53:12.122253",
     "status": "completed"
    },
    "tags": []
   },
   "outputs": [
    {
     "data": {
      "text/plain": [
       "torch.Size([2])"
      ]
     },
     "execution_count": 7,
     "metadata": {},
     "output_type": "execute_result"
    }
   ],
   "source": [
    "# Check shape of vector\n",
    "vector.shape"
   ]
  },
  {
   "cell_type": "code",
   "execution_count": 8,
   "id": "98e6e421",
   "metadata": {
    "execution": {
     "iopub.execute_input": "2024-03-04T05:53:12.177044Z",
     "iopub.status.busy": "2024-03-04T05:53:12.176635Z",
     "iopub.status.idle": "2024-03-04T05:53:12.186680Z",
     "shell.execute_reply": "2024-03-04T05:53:12.185530Z"
    },
    "papermill": {
     "duration": 0.026937,
     "end_time": "2024-03-04T05:53:12.189199",
     "exception": false,
     "start_time": "2024-03-04T05:53:12.162262",
     "status": "completed"
    },
    "tags": []
   },
   "outputs": [
    {
     "data": {
      "text/plain": [
       "tensor([[ 7,  8],\n",
       "        [ 9, 10]])"
      ]
     },
     "execution_count": 8,
     "metadata": {},
     "output_type": "execute_result"
    }
   ],
   "source": [
    "# Matrix\n",
    "MATRIX = torch.tensor([[7, 8], \n",
    "                       [9, 10]])\n",
    "MATRIX"
   ]
  },
  {
   "cell_type": "code",
   "execution_count": 9,
   "id": "6c1a59be",
   "metadata": {
    "execution": {
     "iopub.execute_input": "2024-03-04T05:53:12.218355Z",
     "iopub.status.busy": "2024-03-04T05:53:12.217966Z",
     "iopub.status.idle": "2024-03-04T05:53:12.225885Z",
     "shell.execute_reply": "2024-03-04T05:53:12.224739Z"
    },
    "papermill": {
     "duration": 0.025268,
     "end_time": "2024-03-04T05:53:12.228203",
     "exception": false,
     "start_time": "2024-03-04T05:53:12.202935",
     "status": "completed"
    },
    "tags": []
   },
   "outputs": [
    {
     "data": {
      "text/plain": [
       "(2, tensor([7, 8]))"
      ]
     },
     "execution_count": 9,
     "metadata": {},
     "output_type": "execute_result"
    }
   ],
   "source": [
    "# Check number of dimensions\n",
    "MATRIX.ndim, MATRIX[0]"
   ]
  },
  {
   "cell_type": "code",
   "execution_count": 10,
   "id": "8c017a5e",
   "metadata": {
    "execution": {
     "iopub.execute_input": "2024-03-04T05:53:12.257255Z",
     "iopub.status.busy": "2024-03-04T05:53:12.256843Z",
     "iopub.status.idle": "2024-03-04T05:53:12.265477Z",
     "shell.execute_reply": "2024-03-04T05:53:12.264079Z"
    },
    "papermill": {
     "duration": 0.026295,
     "end_time": "2024-03-04T05:53:12.267927",
     "exception": false,
     "start_time": "2024-03-04T05:53:12.241632",
     "status": "completed"
    },
    "tags": []
   },
   "outputs": [
    {
     "data": {
      "text/plain": [
       "tensor([[[1, 2, 3],\n",
       "         [3, 6, 9],\n",
       "         [2, 4, 5]]])"
      ]
     },
     "execution_count": 10,
     "metadata": {},
     "output_type": "execute_result"
    }
   ],
   "source": [
    "# Tensor\n",
    "TENSOR = torch.tensor([[[1, 2, 3],\n",
    "                        [3, 6, 9],\n",
    "                        [2, 4, 5]]])\n",
    "TENSOR"
   ]
  },
  {
   "cell_type": "code",
   "execution_count": 11,
   "id": "86abde3b",
   "metadata": {
    "execution": {
     "iopub.execute_input": "2024-03-04T05:53:12.297548Z",
     "iopub.status.busy": "2024-03-04T05:53:12.297159Z",
     "iopub.status.idle": "2024-03-04T05:53:12.304756Z",
     "shell.execute_reply": "2024-03-04T05:53:12.303319Z"
    },
    "papermill": {
     "duration": 0.025749,
     "end_time": "2024-03-04T05:53:12.307156",
     "exception": false,
     "start_time": "2024-03-04T05:53:12.281407",
     "status": "completed"
    },
    "tags": []
   },
   "outputs": [
    {
     "data": {
      "text/plain": [
       "3"
      ]
     },
     "execution_count": 11,
     "metadata": {},
     "output_type": "execute_result"
    }
   ],
   "source": [
    "# Check number of dimensions for TENSOR\n",
    "TENSOR.ndim"
   ]
  },
  {
   "cell_type": "code",
   "execution_count": 12,
   "id": "5758369b",
   "metadata": {
    "execution": {
     "iopub.execute_input": "2024-03-04T05:53:12.338212Z",
     "iopub.status.busy": "2024-03-04T05:53:12.337185Z",
     "iopub.status.idle": "2024-03-04T05:53:12.343761Z",
     "shell.execute_reply": "2024-03-04T05:53:12.342631Z"
    },
    "papermill": {
     "duration": 0.025012,
     "end_time": "2024-03-04T05:53:12.346506",
     "exception": false,
     "start_time": "2024-03-04T05:53:12.321494",
     "status": "completed"
    },
    "tags": []
   },
   "outputs": [
    {
     "data": {
      "text/plain": [
       "torch.Size([1, 3, 3])"
      ]
     },
     "execution_count": 12,
     "metadata": {},
     "output_type": "execute_result"
    }
   ],
   "source": [
    "# Check shape of TENSOR\n",
    "TENSOR.shape"
   ]
  },
  {
   "attachments": {
    "fe2179bb-374b-4379-8a01-08963eee2c8f.png": {
     "image/png": "[encoded data removed]"
    }
   },
   "cell_type": "markdown",
   "id": "4fc28666",
   "metadata": {
    "papermill": {
     "duration": 0.013301,
     "end_time": "2024-03-04T05:53:12.373490",
     "exception": false,
     "start_time": "2024-03-04T05:53:12.360189",
     "status": "completed"
    },
    "tags": []
   },
   "source": [
    "![image.png](attachment:fe2179bb-374b-4379-8a01-08963eee2c8f.png)"
   ]
  },
  {
   "cell_type": "code",
   "execution_count": 13,
   "id": "2ef62f97",
   "metadata": {
    "execution": {
     "iopub.execute_input": "2024-03-04T05:53:12.404063Z",
     "iopub.status.busy": "2024-03-04T05:53:12.403280Z",
     "iopub.status.idle": "2024-03-04T05:53:12.424610Z",
     "shell.execute_reply": "2024-03-04T05:53:12.423438Z"
    },
    "papermill": {
     "duration": 0.039364,
     "end_time": "2024-03-04T05:53:12.427203",
     "exception": false,
     "start_time": "2024-03-04T05:53:12.387839",
     "status": "completed"
    },
    "tags": []
   },
   "outputs": [
    {
     "data": {
      "text/plain": [
       "(torch.Size([224, 224, 3]), 3)"
      ]
     },
     "execution_count": 13,
     "metadata": {},
     "output_type": "execute_result"
    }
   ],
   "source": [
    "# Create a random tensor of size (224, 224, 3)\n",
    "random_image_size_tensor = torch.rand(size=(224, 224, 3))\n",
    "random_image_size_tensor.shape, random_image_size_tensor.ndim"
   ]
  },
  {
   "cell_type": "code",
   "execution_count": 14,
   "id": "73c0ea15",
   "metadata": {
    "execution": {
     "iopub.execute_input": "2024-03-04T05:53:12.458225Z",
     "iopub.status.busy": "2024-03-04T05:53:12.457392Z",
     "iopub.status.idle": "2024-03-04T05:53:12.515459Z",
     "shell.execute_reply": "2024-03-04T05:53:12.514243Z"
    },
    "papermill": {
     "duration": 0.077979,
     "end_time": "2024-03-04T05:53:12.519841",
     "exception": false,
     "start_time": "2024-03-04T05:53:12.441862",
     "status": "completed"
    },
    "tags": []
   },
   "outputs": [
    {
     "data": {
      "text/plain": [
       "(tensor([[0., 0., 0., 0.],\n",
       "         [0., 0., 0., 0.],\n",
       "         [0., 0., 0., 0.]]),\n",
       " torch.float32)"
      ]
     },
     "execution_count": 14,
     "metadata": {},
     "output_type": "execute_result"
    }
   ],
   "source": [
    "# Create a tensor of all zeros\n",
    "zeros = torch.zeros(size=(3, 4))\n",
    "zeros, zeros.dtype"
   ]
  },
  {
   "cell_type": "code",
   "execution_count": 15,
   "id": "c43f7a4d",
   "metadata": {
    "execution": {
     "iopub.execute_input": "2024-03-04T05:53:12.552226Z",
     "iopub.status.busy": "2024-03-04T05:53:12.551807Z",
     "iopub.status.idle": "2024-03-04T05:53:12.581897Z",
     "shell.execute_reply": "2024-03-04T05:53:12.580490Z"
    },
    "papermill": {
     "duration": 0.048798,
     "end_time": "2024-03-04T05:53:12.584634",
     "exception": false,
     "start_time": "2024-03-04T05:53:12.535836",
     "status": "completed"
    },
    "tags": []
   },
   "outputs": [
    {
     "data": {
      "text/plain": [
       "(tensor([[1., 1., 1., 1.],\n",
       "         [1., 1., 1., 1.],\n",
       "         [1., 1., 1., 1.]]),\n",
       " torch.float32)"
      ]
     },
     "execution_count": 15,
     "metadata": {},
     "output_type": "execute_result"
    }
   ],
   "source": [
    "# Create a tensor of all ones\n",
    "ones = torch.ones(size=(3, 4))\n",
    "ones, ones.dtype"
   ]
  },
  {
   "cell_type": "code",
   "execution_count": 16,
   "id": "38f57c59",
   "metadata": {
    "execution": {
     "iopub.execute_input": "2024-03-04T05:53:12.616916Z",
     "iopub.status.busy": "2024-03-04T05:53:12.616473Z",
     "iopub.status.idle": "2024-03-04T05:53:12.634150Z",
     "shell.execute_reply": "2024-03-04T05:53:12.632664Z"
    },
    "papermill": {
     "duration": 0.036597,
     "end_time": "2024-03-04T05:53:12.637481",
     "exception": false,
     "start_time": "2024-03-04T05:53:12.600884",
     "status": "completed"
    },
    "tags": []
   },
   "outputs": [
    {
     "name": "stderr",
     "output_type": "stream",
     "text": [
      "/tmp/ipykernel_18/193451495.py:2: UserWarning: torch.range is deprecated and will be removed in a future release because its behavior is inconsistent with Python's range builtin. Instead, use torch.arange, which produces values in [start, end).\n",
      "  zero_to_ten_deprecated = torch.range(0, 10) # Note: this may return an error in the future\n"
     ]
    },
    {
     "data": {
      "text/plain": [
       "tensor([0, 1, 2, 3, 4, 5, 6, 7, 8, 9])"
      ]
     },
     "execution_count": 16,
     "metadata": {},
     "output_type": "execute_result"
    }
   ],
   "source": [
    "# Use torch.arange(), torch.range() is deprecated \n",
    "zero_to_ten_deprecated = torch.range(0, 10) # Note: this may return an error in the future\n",
    "\n",
    "# Create a range of values 0 to 10\n",
    "zero_to_ten = torch.arange(start=0, end=10, step=1)\n",
    "zero_to_ten"
   ]
  },
  {
   "cell_type": "code",
   "execution_count": 17,
   "id": "abce138c",
   "metadata": {
    "execution": {
     "iopub.execute_input": "2024-03-04T05:53:12.671073Z",
     "iopub.status.busy": "2024-03-04T05:53:12.670361Z",
     "iopub.status.idle": "2024-03-04T05:53:12.679115Z",
     "shell.execute_reply": "2024-03-04T05:53:12.677948Z"
    },
    "papermill": {
     "duration": 0.02757,
     "end_time": "2024-03-04T05:53:12.681393",
     "exception": false,
     "start_time": "2024-03-04T05:53:12.653823",
     "status": "completed"
    },
    "tags": []
   },
   "outputs": [
    {
     "data": {
      "text/plain": [
       "tensor([0, 0, 0, 0, 0, 0, 0, 0, 0, 0])"
      ]
     },
     "execution_count": 17,
     "metadata": {},
     "output_type": "execute_result"
    }
   ],
   "source": [
    "# Can also create a tensor of zeros similar to another tensor\n",
    "ten_zeros = torch.zeros_like(input=zero_to_ten) # will have same shape\n",
    "ten_zeros"
   ]
  },
  {
   "cell_type": "code",
   "execution_count": 18,
   "id": "e7f26253",
   "metadata": {
    "execution": {
     "iopub.execute_input": "2024-03-04T05:53:12.713841Z",
     "iopub.status.busy": "2024-03-04T05:53:12.713183Z",
     "iopub.status.idle": "2024-03-04T05:53:12.720704Z",
     "shell.execute_reply": "2024-03-04T05:53:12.719568Z"
    },
    "papermill": {
     "duration": 0.026342,
     "end_time": "2024-03-04T05:53:12.722866",
     "exception": false,
     "start_time": "2024-03-04T05:53:12.696524",
     "status": "completed"
    },
    "tags": []
   },
   "outputs": [
    {
     "data": {
      "text/plain": [
       "torch.float16"
      ]
     },
     "execution_count": 18,
     "metadata": {},
     "output_type": "execute_result"
    }
   ],
   "source": [
    "float_16_tensor = torch.tensor([3.0, 6.0, 9.0],\n",
    "                               dtype=torch.float16) # torch.half would also work\n",
    "\n",
    "float_16_tensor.dtype"
   ]
  },
  {
   "cell_type": "markdown",
   "id": "5e1f7664",
   "metadata": {
    "papermill": {
     "duration": 0.014857,
     "end_time": "2024-03-04T05:53:12.752657",
     "exception": false,
     "start_time": "2024-03-04T05:53:12.737800",
     "status": "completed"
    },
    "tags": []
   },
   "source": [
    "We've seen these before but three of the most common attributes you'll want to find out about tensors are:\n",
    "\n",
    "    shape - what shape is the tensor? (some operations require specific shape rules)\n",
    "    dtype - what datatype are the elements within the tensor stored in?\n",
    "    device - what device is the tensor stored on? (usually GPU or CPU)\n"
   ]
  },
  {
   "cell_type": "code",
   "execution_count": 19,
   "id": "45e1c8ac",
   "metadata": {
    "execution": {
     "iopub.execute_input": "2024-03-04T05:53:12.783922Z",
     "iopub.status.busy": "2024-03-04T05:53:12.783516Z",
     "iopub.status.idle": "2024-03-04T05:53:12.790399Z",
     "shell.execute_reply": "2024-03-04T05:53:12.789419Z"
    },
    "papermill": {
     "duration": 0.025334,
     "end_time": "2024-03-04T05:53:12.792612",
     "exception": false,
     "start_time": "2024-03-04T05:53:12.767278",
     "status": "completed"
    },
    "tags": []
   },
   "outputs": [
    {
     "name": "stdout",
     "output_type": "stream",
     "text": [
      "tensor([[0.3045, 0.3431, 0.2025, 0.9154],\n",
      "        [0.9620, 0.6192, 0.1669, 0.3557],\n",
      "        [0.9924, 0.9590, 0.2631, 0.7720]])\n",
      "Shape of tensor: torch.Size([3, 4])\n",
      "Datatype of tensor: torch.float32\n",
      "Device tensor is stored on: cpu\n"
     ]
    }
   ],
   "source": [
    "# Create a tensor\n",
    "some_tensor = torch.rand(3, 4)\n",
    "\n",
    "# Find out details about it\n",
    "print(some_tensor)\n",
    "print(f\"Shape of tensor: {some_tensor.shape}\")\n",
    "print(f\"Datatype of tensor: {some_tensor.dtype}\")\n",
    "print(f\"Device tensor is stored on: {some_tensor.device}\") # will default to CPU"
   ]
  },
  {
   "cell_type": "markdown",
   "id": "eaaaa104",
   "metadata": {
    "papermill": {
     "duration": 0.015267,
     "end_time": "2024-03-04T05:53:12.825306",
     "exception": false,
     "start_time": "2024-03-04T05:53:12.810039",
     "status": "completed"
    },
    "tags": []
   },
   "source": [
    "\n",
    "Manipulating tensors (tensor operations)\n",
    "\n",
    "In deep learning, data (images, text, video, audio, protein structures, etc) gets represented as tensors.\n",
    "\n",
    "A model learns by investigating those tensors and performing a series of operations (could be 1,000,000s+) on tensors to create a representation of the patterns in the input data.\n",
    "\n",
    "These operations are often a wonderful dance between:\n",
    "\n",
    "    Addition\n",
    "    Substraction\n",
    "    Multiplication (element-wise)\n",
    "    Division\n",
    "    Matrix multiplication\n",
    "\n",
    "And that's it. Sure there are a few more here and there but these are the basic building blocks of neural networks.\n",
    "\n",
    "Stacking these building blocks in the right way, you can create the most sophisticated of neural networks (just like lego!).\n",
    "Basic operations\n",
    "\n",
    "Let's start with a few of the fundamental operations, addition (+), subtraction (-), mutliplication (*).\n",
    "\n",
    "They work just as you think they would.\n"
   ]
  },
  {
   "cell_type": "code",
   "execution_count": 20,
   "id": "c478ba9d",
   "metadata": {
    "execution": {
     "iopub.execute_input": "2024-03-04T05:53:12.858537Z",
     "iopub.status.busy": "2024-03-04T05:53:12.858140Z",
     "iopub.status.idle": "2024-03-04T05:53:12.867989Z",
     "shell.execute_reply": "2024-03-04T05:53:12.866789Z"
    },
    "papermill": {
     "duration": 0.02943,
     "end_time": "2024-03-04T05:53:12.870534",
     "exception": false,
     "start_time": "2024-03-04T05:53:12.841104",
     "status": "completed"
    },
    "tags": []
   },
   "outputs": [
    {
     "data": {
      "text/plain": [
       "tensor([11, 12, 13])"
      ]
     },
     "execution_count": 20,
     "metadata": {},
     "output_type": "execute_result"
    }
   ],
   "source": [
    "# Create a tensor of values and add a number to it\n",
    "tensor = torch.tensor([1, 2, 3])\n",
    "tensor + 10"
   ]
  },
  {
   "cell_type": "code",
   "execution_count": 21,
   "id": "637d4c1b",
   "metadata": {
    "execution": {
     "iopub.execute_input": "2024-03-04T05:53:12.903091Z",
     "iopub.status.busy": "2024-03-04T05:53:12.902383Z",
     "iopub.status.idle": "2024-03-04T05:53:12.914498Z",
     "shell.execute_reply": "2024-03-04T05:53:12.913259Z"
    },
    "papermill": {
     "duration": 0.03166,
     "end_time": "2024-03-04T05:53:12.917090",
     "exception": false,
     "start_time": "2024-03-04T05:53:12.885430",
     "status": "completed"
    },
    "tags": []
   },
   "outputs": [
    {
     "data": {
      "text/plain": [
       "tensor([10, 20, 30])"
      ]
     },
     "execution_count": 21,
     "metadata": {},
     "output_type": "execute_result"
    }
   ],
   "source": [
    "# Multiply it by 10\n",
    "tensor * 10"
   ]
  },
  {
   "cell_type": "code",
   "execution_count": 22,
   "id": "61ce0835",
   "metadata": {
    "execution": {
     "iopub.execute_input": "2024-03-04T05:53:12.949386Z",
     "iopub.status.busy": "2024-03-04T05:53:12.949001Z",
     "iopub.status.idle": "2024-03-04T05:53:12.956728Z",
     "shell.execute_reply": "2024-03-04T05:53:12.955500Z"
    },
    "papermill": {
     "duration": 0.027252,
     "end_time": "2024-03-04T05:53:12.959382",
     "exception": false,
     "start_time": "2024-03-04T05:53:12.932130",
     "status": "completed"
    },
    "tags": []
   },
   "outputs": [
    {
     "data": {
      "text/plain": [
       "tensor([1, 2, 3])"
      ]
     },
     "execution_count": 22,
     "metadata": {},
     "output_type": "execute_result"
    }
   ],
   "source": [
    "# Tensors don't change unless reassigned\n",
    "tensor"
   ]
  },
  {
   "cell_type": "code",
   "execution_count": 23,
   "id": "4e904063",
   "metadata": {
    "execution": {
     "iopub.execute_input": "2024-03-04T05:53:12.992577Z",
     "iopub.status.busy": "2024-03-04T05:53:12.992073Z",
     "iopub.status.idle": "2024-03-04T05:53:13.001416Z",
     "shell.execute_reply": "2024-03-04T05:53:13.000353Z"
    },
    "papermill": {
     "duration": 0.029732,
     "end_time": "2024-03-04T05:53:13.004769",
     "exception": false,
     "start_time": "2024-03-04T05:53:12.975037",
     "status": "completed"
    },
    "tags": []
   },
   "outputs": [
    {
     "data": {
      "text/plain": [
       "tensor([-9, -8, -7])"
      ]
     },
     "execution_count": 23,
     "metadata": {},
     "output_type": "execute_result"
    }
   ],
   "source": [
    "# Subtract and reassign\n",
    "tensor = tensor - 10\n",
    "tensor"
   ]
  },
  {
   "cell_type": "code",
   "execution_count": 24,
   "id": "50854171",
   "metadata": {
    "execution": {
     "iopub.execute_input": "2024-03-04T05:53:13.038817Z",
     "iopub.status.busy": "2024-03-04T05:53:13.038370Z",
     "iopub.status.idle": "2024-03-04T05:53:13.045674Z",
     "shell.execute_reply": "2024-03-04T05:53:13.044718Z"
    },
    "papermill": {
     "duration": 0.028398,
     "end_time": "2024-03-04T05:53:13.048671",
     "exception": false,
     "start_time": "2024-03-04T05:53:13.020273",
     "status": "completed"
    },
    "tags": []
   },
   "outputs": [
    {
     "data": {
      "text/plain": [
       "tensor([1, 2, 3])"
      ]
     },
     "execution_count": 24,
     "metadata": {},
     "output_type": "execute_result"
    }
   ],
   "source": [
    "# Add and reassign\n",
    "tensor = tensor + 10\n",
    "tensor"
   ]
  },
  {
   "cell_type": "markdown",
   "id": "2b658ab0",
   "metadata": {
    "papermill": {
     "duration": 0.015146,
     "end_time": "2024-03-04T05:53:13.079335",
     "exception": false,
     "start_time": "2024-03-04T05:53:13.064189",
     "status": "completed"
    },
    "tags": []
   },
   "source": [
    "PyTorch also has a bunch of built-in functions like torch.mul() (short for multiplication) and torch.add() to perform basic operations."
   ]
  },
  {
   "cell_type": "code",
   "execution_count": 25,
   "id": "c460349c",
   "metadata": {
    "execution": {
     "iopub.execute_input": "2024-03-04T05:53:13.113113Z",
     "iopub.status.busy": "2024-03-04T05:53:13.112727Z",
     "iopub.status.idle": "2024-03-04T05:53:13.122147Z",
     "shell.execute_reply": "2024-03-04T05:53:13.121110Z"
    },
    "papermill": {
     "duration": 0.02964,
     "end_time": "2024-03-04T05:53:13.124626",
     "exception": false,
     "start_time": "2024-03-04T05:53:13.094986",
     "status": "completed"
    },
    "tags": []
   },
   "outputs": [
    {
     "data": {
      "text/plain": [
       "tensor([10, 20, 30])"
      ]
     },
     "execution_count": 25,
     "metadata": {},
     "output_type": "execute_result"
    }
   ],
   "source": [
    "# Can also use torch functions\n",
    "torch.multiply(tensor, 10)"
   ]
  },
  {
   "cell_type": "markdown",
   "id": "71b59b3e",
   "metadata": {
    "papermill": {
     "duration": 0.016068,
     "end_time": "2024-03-04T05:53:13.157003",
     "exception": false,
     "start_time": "2024-03-04T05:53:13.140935",
     "status": "completed"
    },
    "tags": []
   },
   "source": [
    "However, it's more common to use the operator symbols like * instead of torch.mul()"
   ]
  },
  {
   "cell_type": "code",
   "execution_count": 26,
   "id": "f65bf2b4",
   "metadata": {
    "execution": {
     "iopub.execute_input": "2024-03-04T05:53:13.192735Z",
     "iopub.status.busy": "2024-03-04T05:53:13.192318Z",
     "iopub.status.idle": "2024-03-04T05:53:13.200267Z",
     "shell.execute_reply": "2024-03-04T05:53:13.198776Z"
    },
    "papermill": {
     "duration": 0.028689,
     "end_time": "2024-03-04T05:53:13.202919",
     "exception": false,
     "start_time": "2024-03-04T05:53:13.174230",
     "status": "completed"
    },
    "tags": []
   },
   "outputs": [
    {
     "name": "stdout",
     "output_type": "stream",
     "text": [
      "tensor([1, 2, 3]) * tensor([1, 2, 3])\n",
      "Equals: tensor([1, 4, 9])\n"
     ]
    }
   ],
   "source": [
    "# Element-wise multiplication (each element multiplies its equivalent, index 0->0, 1->1, 2->2)\n",
    "print(tensor, \"*\", tensor)\n",
    "print(\"Equals:\", tensor * tensor)"
   ]
  },
  {
   "cell_type": "code",
   "execution_count": null,
   "id": "7e8163c2",
   "metadata": {
    "papermill": {
     "duration": 0.016186,
     "end_time": "2024-03-04T05:53:13.236361",
     "exception": false,
     "start_time": "2024-03-04T05:53:13.220175",
     "status": "completed"
    },
    "tags": []
   },
   "outputs": [],
   "source": []
  }
 ],
 "metadata": {
  "kaggle": {
   "accelerator": "none",
   "dataSources": [],
   "dockerImageVersionId": 30664,
   "isGpuEnabled": false,
   "isInternetEnabled": true,
   "language": "python",
   "sourceType": "notebook"
  },
  "kernelspec": {
   "display_name": "Python 3",
   "language": "python",
   "name": "python3"
  },
  "language_info": {
   "codemirror_mode": {
    "name": "ipython",
    "version": 3
   },
   "file_extension": ".py",
   "mimetype": "text/x-python",
   "name": "python",
   "nbconvert_exporter": "python",
   "pygments_lexer": "ipython3",
   "version": "3.10.13"
  },
  "papermill": {
   "default_parameters": {},
   "duration": 9.946434,
   "end_time": "2024-03-04T05:53:14.177168",
   "environment_variables": {},
   "exception": null,
   "input_path": "__notebook__.ipynb",
   "output_path": "__notebook__.ipynb",
   "parameters": {},
   "start_time": "2024-03-04T05:53:04.230734",
   "version": "2.5.0"
  }
 },
 "nbformat": 4,
 "nbformat_minor": 5
}
